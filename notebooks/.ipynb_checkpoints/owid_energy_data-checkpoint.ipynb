{
 "cells": [
  {
   "cell_type": "code",
   "execution_count": 1,
   "id": "6be99018",
   "metadata": {
    "iooxa": {
     "id": {
      "block": "iuCYlUCkIcpGLWNfW5RH",
      "project": "YHtoK5YlF9FKVewFfVsg",
      "version": 2
     },
     "outputId": null
    }
   },
   "outputs": [],
   "source": [
    "import pandas as pd\n",
    "import numpy as np\n",
    "import matplotlib.pyplot as plt\n",
    "import itertools\n",
    "import warnings\n",
    "warnings.filterwarnings('ignore')\n",
    "\n",
    "df = pd.read_csv('https://raw.githubusercontent.com/owid/energy-data/master/owid-energy-data.csv');\n",
    "df['fossil_consumption'] = df['fossil_fuel_consumption']\n",
    "df['biofuel_energy_per_capita'] = df['biofuel_cons_per_capita']\n",
    "\n",
    "stat_suffix = ['consumption', 'share_energy', 'electricity']\n",
    "stat_unit = ['terawatt-hours','percentage','terawatt-hours']\n",
    "fuel = ['biofuel','coal','gas','hydro','nuclear','oil', 'solar','wind']"
   ]
  },
  {
   "cell_type": "code",
   "execution_count": 6,
   "id": "352fb5b2",
   "metadata": {
    "iooxa": {
     "id": {
      "block": "YuRj0HDbv0n0O2Et7Bo2",
      "project": "YHtoK5YlF9FKVewFfVsg",
      "version": 1
     },
     "outputId": null
    }
   },
   "outputs": [
    {
     "ename": "AttributeError",
     "evalue": "'list' object has no attribute 'replace'",
     "output_type": "error",
     "traceback": [
      "\u001b[0;31m---------------------------------------------------------------------------\u001b[0m",
      "\u001b[0;31mAttributeError\u001b[0m                            Traceback (most recent call last)",
      "Input \u001b[0;32mIn [6]\u001b[0m, in \u001b[0;36m<cell line: 6>\u001b[0;34m()\u001b[0m\n\u001b[1;32m      4\u001b[0m selected_year \u001b[38;5;241m=\u001b[39m \u001b[38;5;241m2019\u001b[39m \u001b[38;5;66;03m# @param\u001b[39;00m\n\u001b[1;32m      5\u001b[0m countries \u001b[38;5;241m=\u001b[39m \u001b[38;5;124m\"\u001b[39m\u001b[38;5;124mSpain,Japan,France\u001b[39m\u001b[38;5;124m\"\u001b[39m \u001b[38;5;66;03m# @param\u001b[39;00m\n\u001b[0;32m----> 6\u001b[0m country_list \u001b[38;5;241m=\u001b[39m \u001b[43mcountries\u001b[49m\u001b[38;5;241;43m.\u001b[39;49m\u001b[43msplit\u001b[49m\u001b[43m(\u001b[49m\u001b[38;5;124;43m\"\u001b[39;49m\u001b[38;5;124;43m,\u001b[39;49m\u001b[38;5;124;43m\"\u001b[39;49m\u001b[43m)\u001b[49m\u001b[38;5;241;43m.\u001b[39;49m\u001b[43mreplace\u001b[49m(\u001b[38;5;124m\"\u001b[39m\u001b[38;5;124m \u001b[39m\u001b[38;5;124m\"\u001b[39m, \u001b[38;5;124m\"\u001b[39m\u001b[38;5;124m\"\u001b[39m)\n",
      "\u001b[0;31mAttributeError\u001b[0m: 'list' object has no attribute 'replace'"
     ]
    }
   ],
   "source": [
    "normalize = True # @param\n",
    "selected_stat = stat_suffix[2] # @param\n",
    "selected_unit = stat_unit[stat_suffix.index(selected_stat)]\n",
    "selected_year = 2019 # @param\n",
    "countries = \"Spain,Japan,France\" # @param\n",
    "country_list = countries.replace(\" \", \"\").split(\",\")"
   ]
  },
  {
   "cell_type": "code",
   "execution_count": null,
   "id": "1529e74c",
   "metadata": {
    "iooxa": {
     "id": {
      "block": "KDANsANaWaIRDPcNjF2p",
      "project": "YHtoK5YlF9FKVewFfVsg",
      "version": 3
     },
     "outputId": {
      "block": "fiYwnIFUxKaWF6kheN38",
      "project": "YHtoK5YlF9FKVewFfVsg",
      "version": 3
     }
    }
   },
   "outputs": [],
   "source": [
    "stats = [\"_\".join(items) for items in itertools.product(fuel, [selected_stat])]\n",
    "keep_cols = ['year', 'gdp','country']+stats\n",
    "df2 = pd.concat([df[['country','year', 'gdp']], df.filter(items=stats)], axis=1)[df['year']> 1990]"
   ]
  },
  {
   "cell_type": "code",
   "execution_count": null,
   "id": "a3c0c554",
   "metadata": {
    "iooxa": {
     "id": {
      "block": "QZEPu9WMicY3gCOJkau6",
      "project": "YHtoK5YlF9FKVewFfVsg",
      "version": 1
     },
     "outputId": {
      "block": "mdIWv8bSsbSTm2WYdi8q",
      "project": "YHtoK5YlF9FKVewFfVsg",
      "version": 1
     }
    }
   },
   "outputs": [],
   "source": [
    "df_sel = df2[df2['country'].isin(country_list)]\n",
    "\n",
    "with plt.style.context('seaborn-darkgrid'):\n",
    "    fig, ax = plt.subplots(1,2, figsize=(20,8), gridspec_kw={'width_ratios': [2, 1]})\n",
    "    df_gdp = df_sel[['country', 'year','gdp']]\n",
    "    df_gdp['gdp'] = df_gdp['gdp'] / 1e9;\n",
    "    df_gdp_c = df_gdp.groupby('country')\n",
    "\n",
    "    df_gdp_c.plot(kind=\"line\", x='year', ax=ax[0]);\n",
    "\n",
    "    ax[0].legend(df_gdp_c.groups.keys())\n",
    "    ax[1].set_title('Country GDP Since 1990 ($ Billion)')\n",
    "    ax[0].set_xlabel('Year')\n",
    "    ax[0].set_ylabel('GDP $ Billion')\n",
    "\n",
    "    df_sel['gdp'] = df_sel['gdp'].ffill();\n",
    "    df_sel[df_sel['year'] == selected_year][['country','gdp']].set_index('country').plot(kind=\"pie\", y='gdp', ax=ax[1]).legend(loc='center left',bbox_to_anchor=(1.0, 1.0));\n",
    "    ax[1].set_ylabel('')\n",
    "    ax[1].set_title('Relative GDP per Country')\n",
    "    plt.tight_layout()"
   ]
  },
  {
   "cell_type": "code",
   "execution_count": null,
   "id": "810d372d",
   "metadata": {
    "iooxa": {
     "id": {
      "block": "HmuB5jM2yMvjgi6vAw5M",
      "project": "YHtoK5YlF9FKVewFfVsg",
      "version": 5
     },
     "outputId": {
      "block": "2iGuMyOO1IiVS7RAwPuj",
      "project": "YHtoK5YlF9FKVewFfVsg",
      "version": 5
     }
    },
    "tags": []
   },
   "outputs": [],
   "source": [
    "with plt.style.context('seaborn-darkgrid'):\n",
    "    fig, ax = plt.subplots(1,2,figsize=(20,8), gridspec_kw={'width_ratios': [2, 1]})\n",
    "    df_p = df_sel[(df_sel['year'] == selected_year)][['country']+stats]\n",
    "    df_p = df_p.set_index('country')\n",
    "\n",
    "    if normalize:\n",
    "        df_p = 100*df_p.div(df_p.sum(axis=1), axis=0)\n",
    "\n",
    "    s = df_p.sum(axis=1).sort_values(ascending=True)\n",
    "    df_p = df_p.reindex(s.index)\n",
    "    df_p.plot(kind=\"barh\", ax=ax[0], stacked=True, width=0.95, legend=False);\n",
    "    ax[0].set_title('Statistic: ' + selected_stat,fontsize=16);\n",
    "    ax[0].set_ylabel('Country',fontsize=16);\n",
    "    ax[0].set_xlabel(\"[percentage]\" if normalize else f\"[{selected_unit}]\",fontsize=14);    \n",
    "    for label in (ax[0].get_xticklabels() + ax[0].get_yticklabels()):\n",
    "        label.set_fontsize(14)\n",
    "\n",
    "    df_p.sum().plot(kind=\"pie\", ax=ax[1])\n",
    "    ax[1].set_ylabel('')\n",
    "    ax[1].set_title('Fuel Type Distribution for these Countries', fontsize=16)    "
   ]
  },
  {
   "cell_type": "code",
   "execution_count": 3,
   "id": "bf30341a",
   "metadata": {
    "iooxa": {
     "id": {
      "block": "6n7g5nzv2yCmXwsuXHet",
      "project": "YHtoK5YlF9FKVewFfVsg",
      "version": 1
     },
     "outputId": {
      "block": "K5uq0NioCIwZOpHZ6mty",
      "project": "YHtoK5YlF9FKVewFfVsg",
      "version": 1
     }
    }
   },
   "outputs": [
    {
     "ename": "NameError",
     "evalue": "name 'df_p' is not defined",
     "output_type": "error",
     "traceback": [
      "\u001b[0;31m---------------------------------------------------------------------------\u001b[0m",
      "\u001b[0;31mNameError\u001b[0m                                 Traceback (most recent call last)",
      "Input \u001b[0;32mIn [3]\u001b[0m, in \u001b[0;36m<cell line: 1>\u001b[0;34m()\u001b[0m\n\u001b[0;32m----> 1\u001b[0m \u001b[43mdf_p\u001b[49m\n",
      "\u001b[0;31mNameError\u001b[0m: name 'df_p' is not defined"
     ]
    }
   ],
   "source": [
    "df_p"
   ]
  },
  {
   "cell_type": "code",
   "execution_count": 4,
   "id": "6cd34909",
   "metadata": {},
   "outputs": [
    {
     "data": {
      "text/plain": [
       "Index(['Sao Tome and Principe', 'Dominica', 'Comoros', 'Saint Lucia',\n",
       "       'Saint Pierre and Miquelon', 'Saint Vincent and the Grenadines',\n",
       "       'Samoa', 'Seychelles', 'Guyana', 'Guinea-Bissau', 'Djibouti',\n",
       "       'Barbados', 'Central America', 'Central African Republic', 'Liberia'],\n",
       "      dtype='object', name='country')"
      ]
     },
     "execution_count": 4,
     "metadata": {},
     "output_type": "execute_result"
    }
   ],
   "source": [
    "df_x = df.copy()\n",
    "df_x['gdp'] = df_x['gdp'].ffill() / 1e9\n",
    "df_x = df_x.loc[df_x['year'] == 2019, ['country', 'gdp']].set_index('country').sort_values('gdp')\n",
    "df_x.index[:15]"
   ]
  },
  {
   "cell_type": "code",
   "execution_count": 5,
   "id": "806d993f",
   "metadata": {},
   "outputs": [
    {
     "data": {
      "text/plain": [
       "Index(['Iraq', 'Western Africa', 'Western Sahara', 'Vietnam', 'Colombia',\n",
       "       'South Africa', 'United Arab Emirates', 'Maldives', 'Malaysia',\n",
       "       'Philippines', 'Argentina', 'Netherlands Antilles', 'New Caledonia',\n",
       "       'Netherlands', 'Thailand', 'Taiwan', 'North America', 'Niue', 'Nigeria',\n",
       "       'Poland', 'Pakistan', 'Australia', 'Egypt', 'Iran', 'Spain',\n",
       "       'Saudi Arabia', 'Canada', 'Turkey', 'South Sudan', 'South Korea',\n",
       "       'Middle Africa', 'Middle East', 'Mexico', 'Italy', 'United Kingdom',\n",
       "       'French Guiana', 'French Polynesia', 'France', 'Indonesia',\n",
       "       'British Virgin Islands', 'Brazil', 'Brunei', 'Russia', 'Germany',\n",
       "       'Japan', 'India', 'China', 'United States',\n",
       "       'United States Virgin Islands', 'World'],\n",
       "      dtype='object', name='country')"
      ]
     },
     "execution_count": 5,
     "metadata": {},
     "output_type": "execute_result"
    }
   ],
   "source": [
    "df_x.index[-50:]"
   ]
  },
  {
   "cell_type": "code",
   "execution_count": null,
   "id": "162ddf73",
   "metadata": {},
   "outputs": [],
   "source": []
  }
 ],
 "metadata": {
  "iooxa": {
   "id": {
    "block": "eYxUqCOLAPDFBFXZVTw1",
    "project": "YHtoK5YlF9FKVewFfVsg",
    "version": 5
   }
  },
  "kernelspec": {
   "display_name": "Python 3 (ipykernel)",
   "language": "python",
   "name": "python3"
  },
  "language_info": {
   "codemirror_mode": {
    "name": "ipython",
    "version": 3
   },
   "file_extension": ".py",
   "mimetype": "text/x-python",
   "name": "python",
   "nbconvert_exporter": "python",
   "pygments_lexer": "ipython3",
   "version": "3.9.10"
  }
 },
 "nbformat": 4,
 "nbformat_minor": 5
}
