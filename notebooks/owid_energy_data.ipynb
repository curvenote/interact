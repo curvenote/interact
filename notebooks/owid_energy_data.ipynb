{
 "cells": [
  {
   "cell_type": "code",
   "execution_count": 15,
   "id": "29d82ab8-52ef-42bf-9453-eec9dc65c982",
   "metadata": {
    "iooxa": {
     "id": {
      "block": "iuCYlUCkIcpGLWNfW5RH",
      "project": "YHtoK5YlF9FKVewFfVsg",
      "version": 1
     },
     "outputId": null
    }
   },
   "outputs": [],
   "source": [
    "import pandas as pd\n",
    "import matplotlib.pyplot as plt"
   ]
  },
  {
   "cell_type": "code",
   "execution_count": 21,
   "id": "f9786f96-a3ad-414f-8a60-a3cbde8309e8",
   "metadata": {
    "iooxa": {
     "id": {
      "block": "WL9v3T4jptHooopa4QDd",
      "project": "YHtoK5YlF9FKVewFfVsg",
      "version": 1
     },
     "outputId": null
    }
   },
   "outputs": [],
   "source": [
    "df = pd.read_csv('./owid-energy-data.csv');\n",
    "df['fossil_consumption'] = df['fossil_fuel_consumption']\n",
    "df['biofuel_energy_per_capita'] = df['biofuel_cons_per_capita']"
   ]
  },
  {
   "cell_type": "code",
   "execution_count": 38,
   "id": "2c2753c5-a6a9-47f8-90ec-6e16d36c2e04",
   "metadata": {},
   "outputs": [],
   "source": [
    "import itertools\n",
    "\n",
    "stat_suffix = ['consumption', 'share_energy', 'share_elec','electricity']\n",
    "fuel = ['biofuel','coal','gas','hydro','nuclear','oil', 'solar','wind']\n",
    "\n",
    "for items in itertools.product(fuel, stat_suffix):\n",
    "    df[\"_\".join(items)];"
   ]
  },
  {
   "cell_type": "code",
   "execution_count": 60,
   "id": "c2ba2a26-3963-4512-8d2b-55cecae950b3",
   "metadata": {
    "iooxa": {
     "id": {
      "block": "KDANsANaWaIRDPcNjF2p",
      "project": "YHtoK5YlF9FKVewFfVsg",
      "version": 2
     },
     "outputId": {
      "block": "fiYwnIFUxKaWF6kheN38",
      "project": "YHtoK5YlF9FKVewFfVsg",
      "version": 2
     }
    }
   },
   "outputs": [
    {
     "data": {
      "text/html": [
       "<div>\n",
       "<style scoped>\n",
       "    .dataframe tbody tr th:only-of-type {\n",
       "        vertical-align: middle;\n",
       "    }\n",
       "\n",
       "    .dataframe tbody tr th {\n",
       "        vertical-align: top;\n",
       "    }\n",
       "\n",
       "    .dataframe thead th {\n",
       "        text-align: right;\n",
       "    }\n",
       "</style>\n",
       "<table border=\"1\" class=\"dataframe\">\n",
       "  <thead>\n",
       "    <tr style=\"text-align: right;\">\n",
       "      <th></th>\n",
       "      <th>country</th>\n",
       "      <th>year</th>\n",
       "      <th>gdp</th>\n",
       "      <th>biofuel_consumption</th>\n",
       "      <th>coal_consumption</th>\n",
       "      <th>fossil_fuel_consumption</th>\n",
       "      <th>gas_consumption</th>\n",
       "      <th>hydro_consumption</th>\n",
       "      <th>low_carbon_consumption</th>\n",
       "      <th>nuclear_consumption</th>\n",
       "      <th>oil_consumption</th>\n",
       "      <th>other_renewable_consumption</th>\n",
       "      <th>primary_energy_consumption</th>\n",
       "      <th>renewables_consumption</th>\n",
       "      <th>solar_consumption</th>\n",
       "      <th>wind_consumption</th>\n",
       "      <th>fossil_consumption</th>\n",
       "    </tr>\n",
       "  </thead>\n",
       "  <tbody>\n",
       "    <tr>\n",
       "      <th>91</th>\n",
       "      <td>Afghanistan</td>\n",
       "      <td>1991</td>\n",
       "      <td>2.407639e+10</td>\n",
       "      <td>NaN</td>\n",
       "      <td>NaN</td>\n",
       "      <td>NaN</td>\n",
       "      <td>NaN</td>\n",
       "      <td>NaN</td>\n",
       "      <td>NaN</td>\n",
       "      <td>NaN</td>\n",
       "      <td>NaN</td>\n",
       "      <td>NaN</td>\n",
       "      <td>13.651</td>\n",
       "      <td>NaN</td>\n",
       "      <td>NaN</td>\n",
       "      <td>NaN</td>\n",
       "      <td>NaN</td>\n",
       "    </tr>\n",
       "    <tr>\n",
       "      <th>92</th>\n",
       "      <td>Afghanistan</td>\n",
       "      <td>1992</td>\n",
       "      <td>2.447247e+10</td>\n",
       "      <td>NaN</td>\n",
       "      <td>NaN</td>\n",
       "      <td>NaN</td>\n",
       "      <td>NaN</td>\n",
       "      <td>NaN</td>\n",
       "      <td>NaN</td>\n",
       "      <td>NaN</td>\n",
       "      <td>NaN</td>\n",
       "      <td>NaN</td>\n",
       "      <td>8.961</td>\n",
       "      <td>NaN</td>\n",
       "      <td>NaN</td>\n",
       "      <td>NaN</td>\n",
       "      <td>NaN</td>\n",
       "    </tr>\n",
       "    <tr>\n",
       "      <th>93</th>\n",
       "      <td>Afghanistan</td>\n",
       "      <td>1993</td>\n",
       "      <td>1.836324e+10</td>\n",
       "      <td>NaN</td>\n",
       "      <td>NaN</td>\n",
       "      <td>NaN</td>\n",
       "      <td>NaN</td>\n",
       "      <td>NaN</td>\n",
       "      <td>NaN</td>\n",
       "      <td>NaN</td>\n",
       "      <td>NaN</td>\n",
       "      <td>NaN</td>\n",
       "      <td>8.935</td>\n",
       "      <td>NaN</td>\n",
       "      <td>NaN</td>\n",
       "      <td>NaN</td>\n",
       "      <td>NaN</td>\n",
       "    </tr>\n",
       "    <tr>\n",
       "      <th>94</th>\n",
       "      <td>Afghanistan</td>\n",
       "      <td>1994</td>\n",
       "      <td>1.427119e+10</td>\n",
       "      <td>NaN</td>\n",
       "      <td>NaN</td>\n",
       "      <td>NaN</td>\n",
       "      <td>NaN</td>\n",
       "      <td>NaN</td>\n",
       "      <td>NaN</td>\n",
       "      <td>NaN</td>\n",
       "      <td>NaN</td>\n",
       "      <td>NaN</td>\n",
       "      <td>8.617</td>\n",
       "      <td>NaN</td>\n",
       "      <td>NaN</td>\n",
       "      <td>NaN</td>\n",
       "      <td>NaN</td>\n",
       "    </tr>\n",
       "    <tr>\n",
       "      <th>95</th>\n",
       "      <td>Afghanistan</td>\n",
       "      <td>1995</td>\n",
       "      <td>2.140894e+10</td>\n",
       "      <td>NaN</td>\n",
       "      <td>NaN</td>\n",
       "      <td>NaN</td>\n",
       "      <td>NaN</td>\n",
       "      <td>NaN</td>\n",
       "      <td>NaN</td>\n",
       "      <td>NaN</td>\n",
       "      <td>NaN</td>\n",
       "      <td>NaN</td>\n",
       "      <td>7.246</td>\n",
       "      <td>NaN</td>\n",
       "      <td>NaN</td>\n",
       "      <td>NaN</td>\n",
       "      <td>NaN</td>\n",
       "    </tr>\n",
       "  </tbody>\n",
       "</table>\n",
       "</div>"
      ],
      "text/plain": [
       "        country  year           gdp  biofuel_consumption  coal_consumption  \\\n",
       "91  Afghanistan  1991  2.407639e+10                  NaN               NaN   \n",
       "92  Afghanistan  1992  2.447247e+10                  NaN               NaN   \n",
       "93  Afghanistan  1993  1.836324e+10                  NaN               NaN   \n",
       "94  Afghanistan  1994  1.427119e+10                  NaN               NaN   \n",
       "95  Afghanistan  1995  2.140894e+10                  NaN               NaN   \n",
       "\n",
       "    fossil_fuel_consumption  gas_consumption  hydro_consumption  \\\n",
       "91                      NaN              NaN                NaN   \n",
       "92                      NaN              NaN                NaN   \n",
       "93                      NaN              NaN                NaN   \n",
       "94                      NaN              NaN                NaN   \n",
       "95                      NaN              NaN                NaN   \n",
       "\n",
       "    low_carbon_consumption  nuclear_consumption  oil_consumption  \\\n",
       "91                     NaN                  NaN              NaN   \n",
       "92                     NaN                  NaN              NaN   \n",
       "93                     NaN                  NaN              NaN   \n",
       "94                     NaN                  NaN              NaN   \n",
       "95                     NaN                  NaN              NaN   \n",
       "\n",
       "    other_renewable_consumption  primary_energy_consumption  \\\n",
       "91                          NaN                      13.651   \n",
       "92                          NaN                       8.961   \n",
       "93                          NaN                       8.935   \n",
       "94                          NaN                       8.617   \n",
       "95                          NaN                       7.246   \n",
       "\n",
       "    renewables_consumption  solar_consumption  wind_consumption  \\\n",
       "91                     NaN                NaN               NaN   \n",
       "92                     NaN                NaN               NaN   \n",
       "93                     NaN                NaN               NaN   \n",
       "94                     NaN                NaN               NaN   \n",
       "95                     NaN                NaN               NaN   \n",
       "\n",
       "    fossil_consumption  \n",
       "91                 NaN  \n",
       "92                 NaN  \n",
       "93                 NaN  \n",
       "94                 NaN  \n",
       "95                 NaN  "
      ]
     },
     "execution_count": 60,
     "metadata": {},
     "output_type": "execute_result"
    }
   ],
   "source": [
    "df2 = pd.concat([df[['country','year', 'gdp']], df.filter(like=stat_suffix[0])], axis=1)[df['year']> 1990]\n",
    "df2.head()"
   ]
  },
  {
   "cell_type": "code",
   "execution_count": 65,
   "id": "e2ad18f2-ca04-4f41-bf98-74d7cb18d07e",
   "metadata": {},
   "outputs": [],
   "source": [
    "selected_stat = stat_suffix[0]\n",
    "stats = [\"_\".join(items) for items in itertools.product(fuel, [selected_stat])]"
   ]
  },
  {
   "cell_type": "code",
   "execution_count": 76,
   "id": "e558a87f-f293-4467-9502-e049f7d15a5a",
   "metadata": {
    "iooxa": {
     "id": {
      "block": "HmuB5jM2yMvjgi6vAw5M",
      "project": "YHtoK5YlF9FKVewFfVsg",
      "version": 4
     },
     "outputId": {
      "block": "2iGuMyOO1IiVS7RAwPuj",
      "project": "YHtoK5YlF9FKVewFfVsg",
      "version": 4
     }
    },
    "tags": []
   },
   "outputs": [
    {
     "name": "stderr",
     "output_type": "stream",
     "text": [
      "/var/folders/wq/t23_fvb50gq4b9nw_9pnfcww0000gn/T/ipykernel_82791/2350058351.py:3: UserWarning: Boolean Series key will be reindexed to match DataFrame index.\n",
      "  df3 = df2[(df2['country'].isin(country_list)) & (df['year'] == 2019)][['country']+stats]\n"
     ]
    },
    {
     "data": {
      "text/plain": [
       "<AxesSubplot:ylabel='country'>"
      ]
     },
     "execution_count": 76,
     "metadata": {},
     "output_type": "execute_result"
    },
    {
     "data": {
      "image/png": "[encoded data removed]",
      "text/plain": [
       "<Figure size 1008x576 with 1 Axes>"
      ]
     },
     "metadata": {
      "needs_background": "light"
     },
     "output_type": "display_data"
    }
   ],
   "source": [
    "fig, ax = plt.subplots(figsize=(14,8))\n",
    "country_list = ['China', 'United States', 'United Kingdom', 'France', 'Spain', 'Denmark']\n",
    "df3 = df2[(df2['country'].isin(country_list)) & (df['year'] == 2019)][['country']+stats]\n",
    "df3 = df3.set_index('country')\n",
    "df3.plot(kind=\"barh\", ax=ax, stacked=True)\n",
    "\n",
    "\n",
    "# .plot(x='country', ax=ax, kind='barh', stacked=True);\n",
    "# ax.set_title('% Electricity generated by Solar');\n",
    "# ax.legend(country_list);"
   ]
  },
  {
   "cell_type": "code",
   "execution_count": null,
   "id": "1863cfc4-0ebf-46a0-9628-b8d6588b2cb6",
   "metadata": {},
   "outputs": [],
   "source": []
  }
 ],
 "metadata": {
  "iooxa": {
   "id": {
    "block": "eYxUqCOLAPDFBFXZVTw1",
    "project": "YHtoK5YlF9FKVewFfVsg",
    "version": 4
   }
  },
  "kernelspec": {
   "display_name": "Python 3 (ipykernel)",
   "language": "python",
   "name": "python3"
  },
  "language_info": {
   "codemirror_mode": {
    "name": "ipython",
    "version": 3
   },
   "file_extension": ".py",
   "mimetype": "text/x-python",
   "name": "python",
   "nbconvert_exporter": "python",
   "pygments_lexer": "ipython3",
   "version": "3.9.10"
  }
 },
 "nbformat": 4,
 "nbformat_minor": 5
}
