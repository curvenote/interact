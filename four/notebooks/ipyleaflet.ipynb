{
 "cells": [
  {
   "cell_type": "code",
   "execution_count": 1,
   "id": "712d5ada-a8bc-4f1e-8e11-0edaadc5063d",
   "metadata": {},
   "outputs": [],
   "source": [
    "from ipyleaflet import Map"
   ]
  },
  {
   "cell_type": "code",
   "execution_count": 2,
   "id": "4ba75503-c1a7-4916-990a-dd8d2bf24b43",
   "metadata": {},
   "outputs": [],
   "source": [
    "# Collect common parameters\n",
    "zoom = 8 # @param\n",
    "place = None # @param`,"
   ]
  },
  {
   "cell_type": "code",
   "execution_count": 3,
   "id": "f4db1db5-6404-4fff-8595-0af3d69acbaf",
   "metadata": {},
   "outputs": [],
   "source": [
    "\n",
    "places = dict(\n",
    "    orotava=dict(center=(28.389216, -16.520283), zoom=12),\n",
    "    pico_tiede=dict(center=(28.272401, -16.642457), zoom=12),\n",
    "    santa_cruz=dict(center=(28.466965, -16.249938), zoom=12)\n",
    ")\n"
   ]
  },
  {
   "cell_type": "code",
   "execution_count": 4,
   "id": "d3924e14-a92f-4e4b-9c2a-7c1ec798968d",
   "metadata": {},
   "outputs": [
    {
     "data": {
      "application/vnd.jupyter.widget-view+json": {
       "model_id": "c3209a2352214b00896ebbbaa4d118da",
       "version_major": 2,
       "version_minor": 0
      },
      "text/plain": [
       "Map(center=[28.58685, -15.648742], controls=(ZoomControl(options=['position', 'zoom_in_text', 'zoom_in_title',…"
      ]
     },
     "metadata": {},
     "output_type": "display_data"
    }
   ],
   "source": [
    "center = places[place][\"center\"] if place is not None else (28.586850, -15.648742)\n",
    "zoom = places[place][\"zoom\"] if place is not None else zoom\n",
    "\n",
    "# Create ipyleaflet map, add layers, add controls, and display\n",
    "m = Map(center=center, zoom=zoom)\n",
    "m"
   ]
  },
  {
   "cell_type": "code",
   "execution_count": null,
   "id": "8db9f879-b726-46cf-a5cc-75b0ecfbecc9",
   "metadata": {},
   "outputs": [],
   "source": []
  }
 ],
 "metadata": {
  "kernelspec": {
   "display_name": "Python 3 (ipykernel)",
   "language": "python",
   "name": "python3"
  },
  "language_info": {
   "codemirror_mode": {
    "name": "ipython",
    "version": 3
   },
   "file_extension": ".py",
   "mimetype": "text/x-python",
   "name": "python",
   "nbconvert_exporter": "python",
   "pygments_lexer": "ipython3",
   "version": "3.9.10"
  }
 },
 "nbformat": 4,
 "nbformat_minor": 5
}
