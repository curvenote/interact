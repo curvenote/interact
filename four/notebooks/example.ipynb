{
 "cells": [
  {
   "cell_type": "markdown",
   "id": "72a40a36-e481-49f3-966f-43fd78b42df1",
   "metadata": {},
   "source": [
    "# localtileserver\n",
    "\n",
    "Learn more: https://localtileserver.banesullivan.com/"
   ]
  },
  {
   "cell_type": "code",
   "execution_count": 18,
   "id": "24a35825-bc45-4793-abc1-8ea6e6ecc885",
   "metadata": {},
   "outputs": [],
   "source": [
    "from localtileserver import examples, get_leaflet_tile_layer, TileClient\n",
    "from ipyleaflet import Map, basemap_to_tiles, basemaps"
   ]
  },
  {
   "cell_type": "code",
   "execution_count": 19,
   "id": "5ef04da6-0e0f-4339-b687-f3fa2d4740bf",
   "metadata": {},
   "outputs": [],
   "source": [
    "# First, create a tile server from local raster file\n",
    "# bahamas = TileClient('bahamas_rgb.tif')"
   ]
  },
  {
   "cell_type": "code",
   "execution_count": 20,
   "id": "8705940c-e61a-4191-9a6d-5129ec4b221a",
   "metadata": {},
   "outputs": [],
   "source": [
    "zoom = 8 # @param \n",
    "place = None # @param"
   ]
  },
  {
   "cell_type": "code",
   "execution_count": 21,
   "id": "8c2587dd-4f3f-45c6-bbc1-cd7da30187fd",
   "metadata": {},
   "outputs": [
    {
     "data": {
      "application/vnd.jupyter.widget-view+json": {
       "model_id": "093f866f0d464c699d624169cbdaebe2",
       "version_major": 2,
       "version_minor": 0
      },
      "text/plain": [
       "Map(center=[28.58685, -15.648742], controls=(ZoomControl(options=['position', 'zoom_in_text', 'zoom_in_title',…"
      ]
     },
     "metadata": {},
     "output_type": "display_data"
    }
   ],
   "source": [
    "# Create ipyleaflet tile layer from that server\n",
    "# bahamas_layer = get_leaflet_tile_layer(bahamas)\n",
    "\n",
    "places = dict(\n",
    "    orotava=dict(center=(28.389216, -16.520283), zoom=12),\n",
    "    pico_tiede=dict(center=(28.272401, -16.642457), zoom=12),\n",
    "    santa_cruz=dict(center=(28.466965, -16.249938), zoom=(12))\n",
    ")\n",
    "\n",
    "center = places[place][\"center\"] if place is not None else (28.586850, -15.648742)\n",
    "zoom = places[place][\"zoom\"] if place is not None else zoom\n",
    "\n",
    "# Create ipyleaflet map, add layers, add controls, and display\n",
    "m = Map(center=center, zoom=zoom)\n",
    "# m.add_layer(bahamas_layer)\n",
    "m.layout.height = '800px'\n",
    "m"
   ]
  },
  {
   "cell_type": "code",
   "execution_count": null,
   "id": "d3aa3ca3-7fcc-4da9-91ad-9c65e9ed26c5",
   "metadata": {},
   "outputs": [],
   "source": []
  }
 ],
 "metadata": {
  "kernelspec": {
   "display_name": "Python 3 (ipykernel)",
   "language": "python",
   "name": "python3"
  },
  "language_info": {
   "codemirror_mode": {
    "name": "ipython",
    "version": 3
   },
   "file_extension": ".py",
   "mimetype": "text/x-python",
   "name": "python",
   "nbconvert_exporter": "python",
   "pygments_lexer": "ipython3",
   "version": "3.9.7"
  }
 },
 "nbformat": 4,
 "nbformat_minor": 5
}
